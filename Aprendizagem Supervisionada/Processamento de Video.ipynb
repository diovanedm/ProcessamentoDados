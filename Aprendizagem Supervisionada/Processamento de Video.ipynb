{
 "cells": [
  {
   "cell_type": "code",
   "execution_count": null,
   "metadata": {},
   "outputs": [],
   "source": [
    "'''\n",
    "\n",
    "Para que os scripts apresentados neste notebook, e necessario possuir um computador com web cam.\n",
    "\n",
    "'''"
   ]
  },
  {
   "cell_type": "code",
   "execution_count": null,
   "metadata": {},
   "outputs": [],
   "source": [
    "#############Utilizando biblioteca opencv para capturar um video e armazenar em memoria######\n",
    "import numpy as np\n",
    "import cv2 \n",
    "cap = cv2.VideoCapture('vtest.avi') \n",
    "while(cap.isOpened()): \n",
    " ret, frame = cap.read()\n",
    " gray = cv2.cvtColor(frame, cv2.COLOR_BGR2GRAY) \n",
    " \n",
    " cv2.imshow('frame',gray)     \n",
    " if cv2.waitKey(1) & 0xFF == ord('q'):         \n",
    "\n",
    "    breakcap.release()cv2.destroyAllWindows() \n",
    "\n",
    " cap.release() \n",
    "\n",
    "cv2.destroyAllWindows() "
   ]
  },
  {
   "cell_type": "code",
   "execution_count": null,
   "metadata": {},
   "outputs": [],
   "source": [
    "##########################Capturando video da WEB CAM###########################\n",
    "import numpy as np\n",
    "import cv2\n",
    "from matplotlib import pyplot as plt\n",
    "import time\n",
    "\n",
    "cap = cv2.VideoCapture(0)\n",
    "\n",
    "while(True):\n",
    "\n",
    "    ret, frame = cap.read()\n",
    "    \n",
    "    plt.imshow(cv2.cvtColor(frame, cv2.COLOR_BGR2RGB))\n",
    "    plt.show()\n",
    "    break\n",
    "\n",
    "cap.release()\n"
   ]
  },
  {
   "cell_type": "code",
   "execution_count": null,
   "metadata": {},
   "outputs": [],
   "source": [
    "######################Aplicando deteccao de Faces em cada frame do video#############\n",
    "##########################Capturando video da WEB CAM###########################\n",
    "import numpy as np\n",
    "import cv2\n",
    "from matplotlib import pyplot as plt\n",
    "import time\n",
    "\n",
    "face_cascade = cv2.CascadeClassifier('modelo/haarcascade_frontalface_default.xml')\n",
    "cap = cv2.VideoCapture(0)\n",
    "\n",
    "while(True):\n",
    "    # Capture frame-by-frame\n",
    "    ret, frame = cap.read()\n",
    "    gray = cv2.cvtColor(frame, cv2.COLOR_BGR2GRAY)\n",
    "    \n",
    "    faces = face_cascade.detectMultiScale(\n",
    "      gray,\n",
    "      scaleFactor=1.1,\n",
    "      minNeighbors=5,\n",
    "      minSize=(30, 30),\n",
    "    )\n",
    "    \n",
    "    cont = 0\n",
    "    for (x,y,w,h) in faces:\n",
    "       frame = cv2.rectangle(frame,(x,y),(x+w,y+h),(255,0,0),2)\n",
    "       roi_gray = gray[y:y+h, x:x+w]\n",
    "       roi_color = frame[y:y+h, x:x+w]\n",
    "       cont=cont + 1\n",
    "    \n",
    "    \n",
    "    plt.imshow(cv2.cvtColor(frame, cv2.COLOR_BGR2RGB))\n",
    "    plt.show()\n",
    "    break\n",
    "\n",
    "cap.release()\n"
   ]
  },
  {
   "cell_type": "code",
   "execution_count": null,
   "metadata": {},
   "outputs": [],
   "source": [
    "#############Exercicios#################\n",
    "\n",
    "#1 - Extrair todas as faces presentes em um video e salvar em um diretorio\n",
    "#2 - Construir um histograma para cada canal de cor (RGB) de cada imagem\n",
    "#3 - Calcular a medida do histograma de cor presentes em todos os frames do video"
   ]
  }
 ],
 "metadata": {
  "kernelspec": {
   "display_name": "Python 3",
   "language": "python",
   "name": "python3"
  },
  "language_info": {
   "codemirror_mode": {
    "name": "ipython",
    "version": 3
   },
   "file_extension": ".py",
   "mimetype": "text/x-python",
   "name": "python",
   "nbconvert_exporter": "python",
   "pygments_lexer": "ipython3",
   "version": "3.7.6"
  }
 },
 "nbformat": 4,
 "nbformat_minor": 4
}
